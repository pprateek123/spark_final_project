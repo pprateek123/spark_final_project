{
 "cells": [
  {
   "cell_type": "code",
   "execution_count": 1,
   "metadata": {},
   "outputs": [
    {
     "name": "stderr",
     "output_type": "stream",
     "text": [
      "Setting default log level to \"WARN\".\n",
      "To adjust logging level use sc.setLogLevel(newLevel). For SparkR, use setLogLevel(newLevel).\n",
      "23/09/12 11:17:08 WARN NativeCodeLoader: Unable to load native-hadoop library for your platform... using builtin-java classes where applicable\n"
     ]
    }
   ],
   "source": [
    "import findspark\n",
    "findspark.init()\n",
    "from pyspark.sql import SparkSession\n",
    "\n",
    "\n",
    "spark = SparkSession.builder.appName('solutions_final')\\\n",
    "        .config('spark.driver.extraClassPath','/usr/lib/jvm/java-11-openjdk-amd64/lib/postgresql-42.6.0.jar')\\\n",
    "        .getOrCreate()\n"
   ]
  },
  {
   "cell_type": "code",
   "execution_count": 2,
   "metadata": {},
   "outputs": [],
   "source": [
    "from pyspark.sql.functions import col,row_number, sum ,format_number,desc,year,month,lag,when ,cast,avg\n",
    "from pyspark.sql.window import Window\n",
    "import pyspark.sql.functions as f"
   ]
  },
  {
   "cell_type": "code",
   "execution_count": 3,
   "metadata": {},
   "outputs": [],
   "source": [
    "#reading the cleaned tables from the postgres database\n",
    "\n",
    "jdbc_url = \"jdbc:postgresql://localhost:5432/postgres\"\n",
    "connection_properties = {\n",
    "    \"user\": \"postgres\",\n",
    "    \"password\": \"postgres\",\n",
    "    \"driver\": \"org.postgresql.Driver\"\n",
    "}\n",
    "table_name = \"cleaned_data\"\n",
    "table_goods = \"cleaned_goods\"\n",
    "table_services = \"cleaned_services\"\n",
    "table_countries = \"cleaned_countries\"\n",
    "\n",
    "df = spark.read \\\n",
    "    .jdbc(url=jdbc_url, table=table_name, properties=connection_properties)"
   ]
  },
  {
   "cell_type": "code",
   "execution_count": 4,
   "metadata": {},
   "outputs": [],
   "source": [
    "df_goods = spark.read \\\n",
    "    .jdbc(url=jdbc_url, table=table_goods, properties=connection_properties)\n",
    "\n",
    "df_services = spark.read \\\n",
    "    .jdbc(url=jdbc_url, table=table_services, properties=connection_properties)\n",
    "\n",
    "df_countries = spark.read \\\n",
    "    .jdbc(url=jdbc_url, table=table_countries, properties=connection_properties)"
   ]
  },
  {
   "cell_type": "code",
   "execution_count": 5,
   "metadata": {},
   "outputs": [
    {
     "name": "stderr",
     "output_type": "stream",
     "text": [
      "                                                                                \r"
     ]
    },
    {
     "name": "stdout",
     "output_type": "stream",
     "text": [
      "+----------+-------+----+------------+------------+-----------+------+\n",
      "|  time_ref|account|code|country_code|product_type|      value|status|\n",
      "+----------+-------+----+------------+------------+-----------+------+\n",
      "|2021-09-30|Imports|  24|          DK|       Goods|    17408.0|     F|\n",
      "|2021-09-30|Imports|  24|          FJ|       Goods|        7.0|     F|\n",
      "|2021-09-30|Imports|  24|          GB|       Goods|    10847.0|     F|\n",
      "|2021-09-30|Imports|  24|          ID|       Goods|1.0549861E7|     F|\n",
      "|2021-09-30|Imports|  24|          IN|       Goods|    17881.0|     F|\n",
      "|2021-09-30|Imports|  24|          JO|       Goods|     2305.0|     F|\n",
      "|2021-09-30|Imports|  24|          KR|       Goods|    91817.0|     F|\n",
      "|2021-09-30|Imports|  24|          NL|       Goods|  2890316.0|     F|\n",
      "|2021-09-30|Imports|  24|          TR|       Goods|    15015.0|     F|\n",
      "|2021-09-30|Imports|  24|          US|       Goods|   102302.0|     F|\n",
      "|2021-09-30|Imports|  25|          AE|       Goods|    34423.0|     F|\n",
      "|2021-09-30|Imports|  25|          AI|       Goods|     5541.0|     F|\n",
      "|2021-09-30|Imports|  25|          AR|       Goods|   307041.0|     F|\n",
      "|2021-09-30|Imports|  25|          AT|       Goods|    68334.0|     F|\n",
      "|2021-09-30|Imports|  25|          AU|       Goods|1.0950635E7|     F|\n",
      "|2021-09-30|Imports|  25|          AZ|       Goods|      576.0|     F|\n",
      "|2021-09-30|Imports|  25|          BA|       Goods|      139.0|     F|\n",
      "|2021-09-30|Imports|  25|          BE|       Goods|     4696.0|     F|\n",
      "|2021-09-30|Imports|  25|          BO|       Goods|    86428.0|     F|\n",
      "|2021-09-30|Imports|  25|          BR|       Goods|     4244.0|     F|\n",
      "+----------+-------+----+------------+------------+-----------+------+\n",
      "only showing top 20 rows\n",
      "\n"
     ]
    }
   ],
   "source": [
    "df.show()\n"
   ]
  },
  {
   "cell_type": "code",
   "execution_count": 6,
   "metadata": {},
   "outputs": [
    {
     "name": "stdout",
     "output_type": "stream",
     "text": [
      "+------------+--------------------+\n",
      "|country_code|       country_label|\n",
      "+------------+--------------------+\n",
      "|          AD|             Andorra|\n",
      "|          AE|United Arab Emirates|\n",
      "|          AF|         Afghanistan|\n",
      "|          AG| Antigua and Barbuda|\n",
      "|          AI|            Anguilla|\n",
      "|          AL|             Albania|\n",
      "|          AM|             Armenia|\n",
      "|          AO|              Angola|\n",
      "|          AQ|          Antarctica|\n",
      "|          AR|           Argentina|\n",
      "|          AS|     Samoa, American|\n",
      "|          AT|             Austria|\n",
      "|          AU|           Australia|\n",
      "|          AW|               Aruba|\n",
      "|          AZ|          Azerbaijan|\n",
      "|          BA|Bosnia and Herzeg...|\n",
      "|          BB|            Barbados|\n",
      "|          BD|          Bangladesh|\n",
      "|          BE|             Belgium|\n",
      "|          BF|        Burkina Faso|\n",
      "+------------+--------------------+\n",
      "only showing top 20 rows\n",
      "\n"
     ]
    }
   ],
   "source": [
    "df_countries.show()"
   ]
  },
  {
   "cell_type": "code",
   "execution_count": 7,
   "metadata": {},
   "outputs": [
    {
     "name": "stdout",
     "output_type": "stream",
     "text": [
      "+----+--------------------+\n",
      "|code|      goods_category|\n",
      "+----+--------------------+\n",
      "|   1|       Animals; live|\n",
      "|   1|       Animals; live|\n",
      "|   1|       Animals; live|\n",
      "|   1|       Animals; live|\n",
      "|   1|       Animals; live|\n",
      "|   1|       Animals; live|\n",
      "|   2|Meat and edible m...|\n",
      "|   2|Meat and edible m...|\n",
      "|   2|Meat and edible m...|\n",
      "|   2|Meat and edible m...|\n",
      "|   2|Meat and edible m...|\n",
      "|   2|Meat and edible m...|\n",
      "|   2|Meat and edible m...|\n",
      "|   2|Meat and edible m...|\n",
      "|   2|Meat and edible m...|\n",
      "|   2|Meat and edible m...|\n",
      "|   3|Fish and crustace...|\n",
      "|   3|Fish and crustace...|\n",
      "|   3|Fish and crustace...|\n",
      "|   3|Fish and crustace...|\n",
      "+----+--------------------+\n",
      "only showing top 20 rows\n",
      "\n"
     ]
    }
   ],
   "source": [
    "df_goods.show()"
   ]
  },
  {
   "cell_type": "code",
   "execution_count": 8,
   "metadata": {},
   "outputs": [
    {
     "name": "stdout",
     "output_type": "stream",
     "text": [
      "+-------+--------------------+\n",
      "|   code|       service_label|\n",
      "+-------+--------------------+\n",
      "|    A12|            Services|\n",
      "|  A1202|Maintenance and r...|\n",
      "|  A1203|      Transportation|\n",
      "| A12031|       Sea transport|\n",
      "|A120312|             Freight|\n",
      "|A120313|               Other|\n",
      "| A12032|       Air transport|\n",
      "|A120321|Air passenger tra...|\n",
      "|A120322|Air freight trans...|\n",
      "|A120323| Air other transport|\n",
      "| A12034|Postal and courie...|\n",
      "|  A1204|              Travel|\n",
      "| A12041|     Business travel|\n",
      "| A12042|     Personal travel|\n",
      "|A120421|Education related...|\n",
      "|A120422|Health related tr...|\n",
      "|A120423|Other personal tr...|\n",
      "|  A1205|Construction serv...|\n",
      "|  A1206|Insurance and pen...|\n",
      "| A12062|         Reinsurance|\n",
      "+-------+--------------------+\n",
      "only showing top 20 rows\n",
      "\n"
     ]
    }
   ],
   "source": [
    "df_services.show()"
   ]
  },
  {
   "cell_type": "markdown",
   "metadata": {},
   "source": [
    "### Question 1:\n",
    "#### Trend analysis of the two countries which has the highest transactIons with new zealand. Increasing and decreasing trends of the sum of the transaction in each quarter month ."
   ]
  },
  {
   "cell_type": "code",
   "execution_count": 9,
   "metadata": {},
   "outputs": [
    {
     "name": "stderr",
     "output_type": "stream",
     "text": [
      "                                                                                \r"
     ]
    },
    {
     "name": "stdout",
     "output_type": "stream",
     "text": [
      "the top 2 countries are :  CN : 847,920,192,569.20 and AU : 761,016,231,517.13\n"
     ]
    },
    {
     "name": "stderr",
     "output_type": "stream",
     "text": [
      "                                                                                \r"
     ]
    },
    {
     "name": "stdout",
     "output_type": "stream",
     "text": [
      "+----------+-------+----+------------+------------+--------+------+-----------+----------+-------+---------------+---------------+-----------+---------+----+-----+\n",
      "|  time_ref|account|code|country_code|product_type|value($)|status|time_ref_au|account_au|code_au|country_code_au|product_type_au|value($)_au|status_au|year|month|\n",
      "+----------+-------+----+------------+------------+--------+------+-----------+----------+-------+---------------+---------------+-----------+---------+----+-----+\n",
      "|2014-06-30|Exports|  71|          CN|       Goods| 14984.0|     F| 2014-06-30|   Imports|     48|             AU|          Goods|   231055.0|        F|2014|    6|\n",
      "|2014-06-30|Exports|  71|          CN|       Goods| 14984.0|     F| 2014-06-30|   Imports|     48|             AU|          Goods|   117568.0|        F|2014|    6|\n",
      "|2014-06-30|Exports|  71|          CN|       Goods| 14984.0|     F| 2014-06-30|   Imports|     48|             AU|          Goods|     4809.0|        F|2014|    6|\n",
      "|2014-06-30|Exports|  71|          CN|       Goods| 14984.0|     F| 2014-06-30|   Imports|     48|             AU|          Goods|     4837.0|        F|2014|    6|\n",
      "|2014-06-30|Exports|  71|          CN|       Goods| 14984.0|     F| 2014-06-30|   Imports|     48|             AU|          Goods|  1429349.0|        F|2014|    6|\n",
      "|2014-06-30|Exports|  71|          CN|       Goods| 14984.0|     F| 2014-06-30|   Imports|     48|             AU|          Goods|  3583535.0|        F|2014|    6|\n",
      "|2014-06-30|Exports|  71|          CN|       Goods| 14984.0|     F| 2014-06-30|   Imports|     48|             AU|          Goods|      153.0|        F|2014|    6|\n",
      "|2014-06-30|Exports|  71|          CN|       Goods| 14984.0|     F| 2014-06-30|   Imports|     48|             AU|          Goods|    28885.0|        F|2014|    6|\n",
      "|2014-06-30|Exports|  71|          CN|       Goods| 14984.0|     F| 2014-06-30|   Imports|     48|             AU|          Goods|    32650.0|        F|2014|    6|\n",
      "|2014-06-30|Exports|  71|          CN|       Goods| 14984.0|     F| 2014-06-30|   Imports|     48|             AU|          Goods|    68966.0|        F|2014|    6|\n",
      "|2014-06-30|Exports|  71|          CN|       Goods| 14984.0|     F| 2014-06-30|   Imports|     48|             AU|          Goods|1.0906946E7|        F|2014|    6|\n",
      "|2014-06-30|Exports|  71|          CN|       Goods| 14984.0|     F| 2014-06-30|   Imports|     48|             AU|          Goods|  4336968.0|        F|2014|    6|\n",
      "|2014-06-30|Exports|  71|          CN|       Goods| 14984.0|     F| 2014-06-30|   Imports|     48|             AU|          Goods|   357327.0|        F|2014|    6|\n",
      "|2014-06-30|Exports|  71|          CN|       Goods| 14984.0|     F| 2014-06-30|   Imports|     48|             AU|          Goods|  3272640.0|        F|2014|    6|\n",
      "|2014-06-30|Exports|  71|          CN|       Goods| 14984.0|     F| 2014-06-30|   Imports|     48|             AU|          Goods|     9123.0|        F|2014|    6|\n",
      "|2014-06-30|Exports|  71|          CN|       Goods| 14984.0|     F| 2014-06-30|   Imports|     48|             AU|          Goods|  2198089.0|        F|2014|    6|\n",
      "|2014-06-30|Exports|  71|          CN|       Goods| 14984.0|     F| 2014-06-30|   Imports|     49|             AU|          Goods|2.7496986E7|        F|2014|    6|\n",
      "|2014-06-30|Exports|  71|          CN|       Goods| 14984.0|     F| 2014-06-30|   Imports|     49|             AU|          Goods|1.3070646E7|        F|2014|    6|\n",
      "|2014-06-30|Exports|  71|          CN|       Goods| 14984.0|     F| 2014-06-30|   Imports|     49|             AU|          Goods|1.0158742E7|        F|2014|    6|\n",
      "|2014-06-30|Exports|  71|          CN|       Goods| 14984.0|     F| 2014-06-30|   Imports|     49|             AU|          Goods|    27136.0|        F|2014|    6|\n",
      "+----------+-------+----+------------+------------+--------+------+-----------+----------+-------+---------------+---------------+-----------+---------+----+-----+\n",
      "only showing top 20 rows\n",
      "\n"
     ]
    },
    {
     "name": "stderr",
     "output_type": "stream",
     "text": [
      "                                                                                \r"
     ]
    },
    {
     "name": "stdout",
     "output_type": "stream",
     "text": [
      "+----+-----+------------------+------------------+\n",
      "|year|month|            sum($)|         sum($)_au|\n",
      "+----+-----+------------------+------------------+\n",
      "|2014|    6| 3.207832114424E13|3.0005845954049E13|\n",
      "|2014|    9|3.0149345938005E13|3.3248377325064E13|\n",
      "|2014|   12|3.7084530234212E13|3.5309257882759E13|\n",
      "|2015|    3|3.5467973908136E13|3.1201448464812E13|\n",
      "|2015|    6|3.3182651329464E13|3.1174360965062E13|\n",
      "|2015|    9|3.7515060607995E13|3.3921927075906E13|\n",
      "|2015|   12| 4.212451374876E13|3.4505529632608E13|\n",
      "|2016|    3|   3.8452087044E13|3.1695938532378E13|\n",
      "|2016|    6|3.7260607943702E13|3.1335067251072E13|\n",
      "|2016|    9|3.6953105075259E13|3.3227853435588E13|\n",
      "|2016|   12|4.3007005677438E13|3.4723597756813E13|\n",
      "|2017|    3|4.0926173258734E13|3.2519835017932E13|\n",
      "|2017|    6|4.3161959390616E13|3.2981432805654E13|\n",
      "|2017|    9|4.1171007126056E13|3.6056523324192E13|\n",
      "|2017|   12| 5.324741133542E13| 3.728352645622E13|\n",
      "|2018|    3|4.5509936783506E13|  3.39461937882E13|\n",
      "|2018|    6|4.7993021514571E13|3.4560162303832E13|\n",
      "|2018|    9|4.9180304679345E13|3.7748074074018E13|\n",
      "|2018|   12|6.2739552347082E13|3.8396645993736E13|\n",
      "|2019|    3|5.2569061937248E13| 3.504904447838E13|\n",
      "+----+-----+------------------+------------------+\n",
      "only showing top 20 rows\n",
      "\n",
      "root\n",
      " |-- time_ref: date (nullable = true)\n",
      " |-- account: string (nullable = true)\n",
      " |-- code: string (nullable = true)\n",
      " |-- country_code: string (nullable = true)\n",
      " |-- product_type: string (nullable = true)\n",
      " |-- value($): double (nullable = true)\n",
      " |-- status: string (nullable = true)\n",
      " |-- time_ref_au: date (nullable = true)\n",
      " |-- account_au: string (nullable = true)\n",
      " |-- code_au: string (nullable = true)\n",
      " |-- country_code_au: string (nullable = true)\n",
      " |-- product_type_au: string (nullable = true)\n",
      " |-- value($)_au: double (nullable = true)\n",
      " |-- status_au: string (nullable = true)\n",
      " |-- year: integer (nullable = true)\n",
      " |-- month: integer (nullable = true)\n",
      "\n"
     ]
    },
    {
     "name": "stderr",
     "output_type": "stream",
     "text": [
      "23/09/12 11:18:17 WARN WindowExec: No Partition Defined for Window operation! Moving all data to a single partition, this can cause serious performance degradation.\n",
      "23/09/12 11:18:17 WARN WindowExec: No Partition Defined for Window operation! Moving all data to a single partition, this can cause serious performance degradation.\n",
      "23/09/12 11:18:17 WARN WindowExec: No Partition Defined for Window operation! Moving all data to a single partition, this can cause serious performance degradation.\n",
      "23/09/12 11:18:19 WARN WindowExec: No Partition Defined for Window operation! Moving all data to a single partition, this can cause serious performance degradation.\n",
      "23/09/12 11:18:19 WARN WindowExec: No Partition Defined for Window operation! Moving all data to a single partition, this can cause serious performance degradation.\n",
      "23/09/12 11:18:19 WARN WindowExec: No Partition Defined for Window operation! Moving all data to a single partition, this can cause serious performance degradation.\n",
      "23/09/12 11:18:19 WARN WindowExec: No Partition Defined for Window operation! Moving all data to a single partition, this can cause serious performance degradation.\n",
      "23/09/12 11:18:32 WARN WindowExec: No Partition Defined for Window operation! Moving all data to a single partition, this can cause serious performance degradation.\n",
      "23/09/12 11:18:32 WARN WindowExec: No Partition Defined for Window operation! Moving all data to a single partition, this can cause serious performance degradation.\n",
      "23/09/12 11:18:32 WARN WindowExec: No Partition Defined for Window operation! Moving all data to a single partition, this can cause serious performance degradation.\n",
      "23/09/12 11:18:33 WARN WindowExec: No Partition Defined for Window operation! Moving all data to a single partition, this can cause serious performance degradation.\n"
     ]
    },
    {
     "name": "stdout",
     "output_type": "stream",
     "text": [
      "+----+-----+------------------+------------------+------------------+------------------+-------------------+------------------+--------+---------+\n",
      "|year|month|            sum($)|         sum($)_au|            lag($)|         lag_au($)|      difference($)|  difference_au($)|  change|change_au|\n",
      "+----+-----+------------------+------------------+------------------+------------------+-------------------+------------------+--------+---------+\n",
      "|2014|    9|30,149,345,938,005|33,248,377,325,064|32,078,321,144,240|30,005,845,954,049| -1,928,975,206,235| 3,242,531,371,015|Decrease| Increase|\n",
      "|2014|   12|37,084,530,234,212|35,309,257,882,759|30,149,345,938,005|33,248,377,325,064|  6,935,184,296,207| 2,060,880,557,695|Increase| Increase|\n",
      "|2015|    3|35,467,973,908,136|31,201,448,464,812|37,084,530,234,212|35,309,257,882,759| -1,616,556,326,076|-4,107,809,417,947|Decrease| Decrease|\n",
      "|2015|    6|33,182,651,329,464|31,174,360,965,062|35,467,973,908,136|31,201,448,464,812| -2,285,322,578,672|   -27,087,499,750|Decrease| Decrease|\n",
      "|2015|    9|37,515,060,607,995|33,921,927,075,906|33,182,651,329,464|31,174,360,965,062|  4,332,409,278,531| 2,747,566,110,844|Increase| Increase|\n",
      "|2015|   12|42,124,513,748,760|34,505,529,632,608|37,515,060,607,995|33,921,927,075,906|  4,609,453,140,765|   583,602,556,702|Increase| Increase|\n",
      "|2016|    3|38,452,087,044,000|31,695,938,532,378|42,124,513,748,760|34,505,529,632,608| -3,672,426,704,760|-2,809,591,100,230|Decrease| Decrease|\n",
      "|2016|    6|37,260,607,943,702|31,335,067,251,072|38,452,087,044,000|31,695,938,532,378| -1,191,479,100,298|  -360,871,281,306|Decrease| Decrease|\n",
      "|2016|    9|36,953,105,075,259|33,227,853,435,588|37,260,607,943,702|31,335,067,251,072|   -307,502,868,443| 1,892,786,184,516|Decrease| Increase|\n",
      "|2016|   12|43,007,005,677,438|34,723,597,756,813|36,953,105,075,259|33,227,853,435,588|  6,053,900,602,179| 1,495,744,321,225|Increase| Increase|\n",
      "|2017|    3|40,926,173,258,734|32,519,835,017,932|43,007,005,677,438|34,723,597,756,813| -2,080,832,418,704|-2,203,762,738,881|Decrease| Decrease|\n",
      "|2017|    6|43,161,959,390,616|32,981,432,805,654|40,926,173,258,734|32,519,835,017,932|  2,235,786,131,882|   461,597,787,722|Increase| Increase|\n",
      "|2017|    9|41,171,007,126,056|36,056,523,324,192|43,161,959,390,616|32,981,432,805,654| -1,990,952,264,560| 3,075,090,518,538|Decrease| Increase|\n",
      "|2017|   12|53,247,411,335,420|37,283,526,456,220|41,171,007,126,056|36,056,523,324,192| 12,076,404,209,364| 1,227,003,132,028|Increase| Increase|\n",
      "|2018|    3|45,509,936,783,506|33,946,193,788,200|53,247,411,335,420|37,283,526,456,220| -7,737,474,551,914|-3,337,332,668,020|Decrease| Decrease|\n",
      "|2018|    6|47,993,021,514,571|34,560,162,303,832|45,509,936,783,506|33,946,193,788,200|  2,483,084,731,065|   613,968,515,632|Increase| Increase|\n",
      "|2018|    9|49,180,304,679,345|37,748,074,074,018|47,993,021,514,571|34,560,162,303,832|  1,187,283,164,774| 3,187,911,770,186|Increase| Increase|\n",
      "|2018|   12|62,739,552,347,082|38,396,645,993,736|49,180,304,679,345|37,748,074,074,018| 13,559,247,667,737|   648,571,919,718|Increase| Increase|\n",
      "|2019|    3|52,569,061,937,248|35,049,044,478,380|62,739,552,347,082|38,396,645,993,736|-10,170,490,409,834|-3,347,601,515,356|Decrease| Decrease|\n",
      "|2019|    6|55,737,901,779,504|34,822,393,322,989|52,569,061,937,248|35,049,044,478,380|  3,168,839,842,256|  -226,651,155,391|Increase| Decrease|\n",
      "+----+-----+------------------+------------------+------------------+------------------+-------------------+------------------+--------+---------+\n",
      "only showing top 20 rows\n",
      "\n"
     ]
    },
    {
     "name": "stderr",
     "output_type": "stream",
     "text": [
      "                                                                                \r"
     ]
    }
   ],
   "source": [
    "## top 2 countries with the highest number of transactions \n",
    "df_highest = df.groupBy('country_code').agg(sum(col('value')).alias('sum($)'))\n",
    "df_highest= df_highest.orderBy(desc(col('sum($)')))\n",
    "df_highest = df_highest.withColumn('sum($)', format_number(col('sum($)'),2)).limit(2)\n",
    "print(\"the top 2 countries are : \",df_highest.collect()[0][0],\":\",df_highest.collect()[0][1],\"and\" , df_highest.collect()[1][0],':',df_highest.collect()[1][1] )\n",
    "\n",
    "## only taking the transaction of the top 2 countires (filter first)\n",
    "df_cn = df.filter(col('country_code')=='CN')\n",
    "df_au = df.filter(col('country_code')=='AU')\n",
    "\n",
    "columns = df_au.columns\n",
    "for i in range(len(columns)):\n",
    "    df_au = df_au.withColumnRenamed(columns[i], columns[i]+'_au')\n",
    "\n",
    "## combining both countries transactions horizontally\n",
    "df_joined = df_cn.join(df_au,df_cn['time_ref']==df_au['time_ref_au'],'inner')\n",
    "\n",
    "#extracting month and year \n",
    "df_joined = df_joined.withColumn(\"year\", year(\"time_ref\")).withColumn(\"month\", month(\"time_ref\"))\\\n",
    "                     .withColumnRenamed('value','value($)')\\\n",
    "                     .withColumnRenamed('value_au','value($)_au')\n",
    "\n",
    "df_joined.show()\n",
    "## selecting only the required columns \n",
    "df_joined_req_col = df_joined.select('year','month','value($)','value($)_au')\n",
    "\n",
    "\n",
    "\n",
    "df_joined_req_col = df_joined_req_col.groupBy('year','month')\\\n",
    "                        .agg(sum(col('value($)')).alias('sum($)'),sum(col('value($)_au')).alias('sum($)_au'))\n",
    "df_joined_req_col.orderBy('year','month').show()\n",
    "\n",
    "df_joined.printSchema()\n",
    "\n",
    "#window\n",
    "window_spec = Window.orderBy(\"year\",\"month\")\n",
    "\n",
    "df_joined_req_col = df_joined_req_col.withColumn('lag($)',lag(col('sum($)'),1).over(window_spec))\\\n",
    "                                     .withColumn('lag_au($)',lag(col('sum($)_au'),1).over(window_spec))\n",
    "df_joined_req_col = df_joined_req_col.na.drop()\n",
    "\n",
    "#difference and trend analysis\n",
    "df_final = df_joined_req_col.withColumn('difference($)',col('sum($)')-col('lag($)'))\\\n",
    "                            .withColumn('difference_au($)',col('sum($)_au')-col('lag_au($)'))\n",
    "\n",
    "\n",
    "df_final = df_final.withColumn('change', when(col('difference($)')>0,\"Increase\").otherwise('Decrease'))\\\n",
    "                    .withColumn('change_au',when(col('difference_au($)')>0,'Increase').otherwise('Decrease'))\n",
    "\n",
    "# df_final.show()difference_au\n",
    "\n",
    "\n",
    "df_final_formatted = df_final.select('*')\n",
    "\n",
    "\n",
    "for i in range(len(df_final.columns)-4):\n",
    "    df_final_formatted = df_final_formatted.withColumn(df_final.columns[i+2],format_number(col(df_final.columns[i+2]),0))\n",
    "\n",
    "df_final_formatted.show()\n",
    "\n",
    "\n"
   ]
  },
  {
   "cell_type": "markdown",
   "metadata": {},
   "source": [
    "### Question 2 : \n",
    "#### TO calculate the most sold(Exported) good to each country in each year from NewZealand and  Find how deviated is it from the mean transaction  of that particular good. \n"
   ]
  },
  {
   "cell_type": "code",
   "execution_count": 17,
   "metadata": {},
   "outputs": [
    {
     "name": "stderr",
     "output_type": "stream",
     "text": [
      "                                                                                \r"
     ]
    },
    {
     "name": "stdout",
     "output_type": "stream",
     "text": [
      "+----+------------+-----------+----+----------+-------+------------+------+----------------+--------------------+\n",
      "|code|country_code|      value|year|  time_ref|account|product_type|status|mean_value_goods|      goods_category|\n",
      "+----+------------+-----------+----+----------+-------+------------+------+----------------+--------------------+\n",
      "|  39|          AD|   543489.0|2018|2018-06-30|Exports|       Goods|     F|       388694.09|Plastics and arti...|\n",
      "|  95|          AD|     6848.0|2020|2020-06-30|Exports|       Goods|     F|        119720.7|Toys, games and s...|\n",
      "|  60|          AD|     2859.0|2021|2021-09-30|Exports|       Goods|     F|        49043.92|Fabrics; knitted ...|\n",
      "|  87|          AD|    28366.0|2022|2022-12-30|Exports|       Goods|     F|       410770.22|Vehicles; other t...|\n",
      "|  85|          AF|   969666.0|2019|2019-06-30|Exports|       Goods|     F|       333540.86|Electrical machin...|\n",
      "|  72|          AF|    43511.0|2021|2021-09-30|Exports|       Goods|     F|      1282541.18|      Iron and steel|\n",
      "|  04|          AI|    83182.0|2015|2015-09-30|Exports|       Goods|     F|   1.320306503E7|Dairy produce; bi...|\n",
      "|  84|          AI|     4975.0|2018|2018-06-30|Exports|       Goods|     F|        452541.7|Machinery and mec...|\n",
      "|  84|          AI|     4975.0|2018|2018-06-30|Exports|       Goods|     F|        452541.7|Nuclear reactors,...|\n",
      "|  85|          AI|    14070.0|2022|2022-06-30|Exports|       Goods|     F|       333540.86|Electrical machin...|\n",
      "|  02|          AL|   136189.0|2015|2015-06-30|Exports|       Goods|     F|      9745989.32|Meat and edible m...|\n",
      "|  05|          AL|   497546.0|2021|2021-09-30|Exports|       Goods|     F|      1648622.41|Animal originated...|\n",
      "|  04|          AM|  5538030.0|2015|2015-12-30|Exports|       Goods|     F|   1.320306503E7|Dairy produce; bi...|\n",
      "|  04|          AM|  6278011.0|2016|2016-12-30|Exports|       Goods|     F|   1.320306503E7|Dairy produce; bi...|\n",
      "|  04|          AM|  4997232.0|2017|2017-12-30|Exports|       Goods|     F|   1.320306503E7|Dairy produce; bi...|\n",
      "|  04|          AM|  3494095.0|2018|2018-03-30|Exports|       Goods|     F|   1.320306503E7|Dairy produce; bi...|\n",
      "|  04|          AO|  7199704.0|2019|2019-03-30|Exports|       Goods|     F|   1.320306503E7|Dairy produce; bi...|\n",
      "|  22|          AQ|    90974.0|2023|2023-03-30|Exports|       Goods|     F|       3228062.9|Beverages, spirit...|\n",
      "|  04|          AZ|2.4208959E7|2017|2017-03-30|Exports|       Goods|     F|   1.320306503E7|Dairy produce; bi...|\n",
      "|  03|          BA|    40071.0|2014|2014-06-30|Exports|       Goods|     F|      2438945.96|Fish and crustace...|\n",
      "+----+------------+-----------+----+----------+-------+------------+------+----------------+--------------------+\n",
      "only showing top 20 rows\n",
      "\n"
     ]
    },
    {
     "name": "stderr",
     "output_type": "stream",
     "text": [
      "[Stage 242:>                                                        (0 + 1) / 1]\r"
     ]
    },
    {
     "name": "stdout",
     "output_type": "stream",
     "text": [
      "+----+------------+---------+----+----------+-------+------------+------+----------------+--------------------+-------------------+\n",
      "|code|country_code|    value|year|  time_ref|account|product_type|status|mean_value_goods|      goods_category|deviation from mean|\n",
      "+----+------------+---------+----+----------+-------+------------+------+----------------+--------------------+-------------------+\n",
      "|  07|          PS|  96501.0|2014|2014-09-30|Exports|       Goods|     F|       701522.83|Vegetables and ce...|         -605021.83|\n",
      "|  51|          IR|1330603.0|2021|2021-12-30|Exports|       Goods|     F|      1852744.33|Wool, fine or coa...|         -522141.33|\n",
      "|  51|          LS|   4500.0|2018|2018-12-30|Exports|       Goods|     F|      1852744.33|Wool, fine or coa...|        -1848244.33|\n",
      "|  87|          AD|  28366.0|2022|2022-12-30|Exports|       Goods|     F|       410770.22|Vehicles; other t...|         -382404.22|\n",
      "|  87|          SM|   1548.0|2014|2014-12-30|Exports|       Goods|     F|       410770.22|Vehicles; other t...|         -409222.22|\n",
      "|  87|          LI| 100000.0|2017|2017-12-30|Exports|       Goods|     F|       410770.22|Vehicles; other t...|         -310770.22|\n",
      "|  73|          SZ|   2904.0|2023|2023-06-30|Exports|       Goods|     F|       184760.77|Iron or steel art...|         -181856.77|\n",
      "|  73|          LR| 742544.0|2022|2022-09-30|Exports|       Goods|     F|       184760.77|Iron or steel art...|          557783.23|\n",
      "|  64|          PS|   6253.0|2023|2023-06-30|Exports|       Goods|     F|       112961.71|Footwear; gaiters...|         -106708.71|\n",
      "|  22|          TC| 119930.0|2015|2015-09-30|Exports|       Goods|     F|       3228062.9|Beverages, spirit...|         -3108132.9|\n",
      "|  22|          TC| 148268.0|2016|2016-03-30|Exports|       Goods|     F|       3228062.9|Beverages, spirit...|         -3079794.9|\n",
      "|  22|          TC| 273640.0|2022|2022-12-30|Exports|       Goods|     F|       3228062.9|Beverages, spirit...|         -2954422.9|\n",
      "|  22|          TC| 156552.0|2020|2020-03-30|Exports|       Goods|     F|       3228062.9|Beverages, spirit...|         -3071510.9|\n",
      "|  22|          TC| 107193.0|2021|2021-09-30|Exports|       Goods|     F|       3228062.9|Beverages, spirit...|         -3120869.9|\n",
      "|  22|          AQ|  90974.0|2023|2023-03-30|Exports|       Goods|     F|       3228062.9|Beverages, spirit...|         -3137088.9|\n",
      "|  22|          TC| 119700.0|2023|2023-06-30|Exports|       Goods|     F|       3228062.9|Beverages, spirit...|         -3108362.9|\n",
      "|  22|          VG|  97423.0|2017|2017-09-30|Exports|       Goods|     F|       3228062.9|Beverages, spirit...|         -3130639.9|\n",
      "|  22|          BA| 194214.0|2018|2018-12-30|Exports|       Goods|     F|       3228062.9|Beverages, spirit...|         -3033848.9|\n",
      "|  22|          TC| 127393.0|2019|2019-12-30|Exports|       Goods|     F|       3228062.9|Beverages, spirit...|         -3100669.9|\n",
      "|  22|          TC| 119698.0|2017|2017-03-30|Exports|       Goods|     F|       3228062.9|Beverages, spirit...|         -3108364.9|\n",
      "+----+------------+---------+----+----------+-------+------------+------+----------------+--------------------+-------------------+\n",
      "only showing top 20 rows\n",
      "\n"
     ]
    },
    {
     "name": "stderr",
     "output_type": "stream",
     "text": [
      "                                                                                \r"
     ]
    }
   ],
   "source": [
    "\n",
    "#finding just the sold goods\n",
    "df_sold = df.filter(col('account')=='Exports')\n",
    "df_sold = df_sold.filter(col('product_type')=='Goods')\n",
    "\n",
    "#extracting year\n",
    "df_each_year = df_sold.withColumn('year', year('time_ref'))\n",
    "\n",
    "\n",
    "## finding out which country has imported max sum of  good in a year\n",
    "df_result =df_each_year.groupBy('country_code','year').agg(f.max(col('value')).alias('value'))\n",
    "\n",
    "#joining the main table with teh grouped one to find out which country imported how much in a particular year along with other details\n",
    "df_joined = df_each_year.join(df_result , on = ['country_code','value','year'] , how = 'inner')\n",
    "df_joined  = df_joined.dropDuplicates()\n",
    "df_joined = df_joined.filter(col('code')!=00)\n",
    "df_joined = df_joined.orderBy('country_code','year')\n",
    "# df_joined.show()\n",
    "\n",
    "\n",
    "## to find out the mean (average value) of each category of goods. \n",
    "df_goods_avg = df_each_year.groupBy('code').agg(avg(col('value')).alias('mean_value_goods'))\n",
    "df_goods_avg = df_goods_avg.withColumn('mean_value_gpucho memeoods', f.round(col('mean_value_goods'),2))\n",
    "df_goods_unique = df_goods.groupBy('goods_category').agg(f.max('code').alias('code'))\n",
    "df_joined_avg = df_goods_avg.join(df_goods_unique , on = 'code', how='inner')\n",
    "# df_joined_avg.show()\n",
    "\n",
    "\n",
    "\n",
    "## joining the average for each good and previous table\n",
    "\n",
    "df_joined_final =  df_joined.join(df_joined_avg, on = 'code', how = 'inner')\n",
    "\n",
    "df_joined_final.orderBy('country_code','year').show()\n",
    "\n",
    "\n",
    "##percent deviation from mean \n",
    "\n",
    "df_deviation = df_joined_final.withColumn('deviation from mean', f.round(col('value')-col('mean_value_goods'),2))\n",
    "\n",
    "df_deviation.show()"
   ]
  },
  {
   "cell_type": "code",
   "execution_count": null,
   "metadata": {},
   "outputs": [],
   "source": []
  },
  {
   "cell_type": "code",
   "execution_count": null,
   "metadata": {},
   "outputs": [],
   "source": []
  }
 ],
 "metadata": {
  "kernelspec": {
   "display_name": "venv_final",
   "language": "python",
   "name": "venv_final"
  },
  "language_info": {
   "codemirror_mode": {
    "name": "ipython",
    "version": 3
   },
   "file_extension": ".py",
   "mimetype": "text/x-python",
   "name": "python",
   "nbconvert_exporter": "python",
   "pygments_lexer": "ipython3",
   "version": "3.10.12"
  },
  "orig_nbformat": 4
 },
 "nbformat": 4,
 "nbformat_minor": 2
}
